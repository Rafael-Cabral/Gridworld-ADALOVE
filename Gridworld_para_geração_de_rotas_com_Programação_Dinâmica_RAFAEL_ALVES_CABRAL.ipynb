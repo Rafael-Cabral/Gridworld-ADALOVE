{
  "nbformat": 4,
  "nbformat_minor": 0,
  "metadata": {
    "colab": {
      "provenance": []
    },
    "kernelspec": {
      "name": "python3",
      "display_name": "Python 3"
    },
    "language_info": {
      "name": "python"
    }
  },
  "cells": [
    {
      "cell_type": "code",
      "execution_count": 6,
      "metadata": {
        "id": "VIZD9eUQPgEm"
      },
      "outputs": [],
      "source": [
        "import matplotlib.pyplot as plt\n",
        "import numpy as np"
      ]
    },
    {
      "cell_type": "code",
      "source": [
        "# Definições iniciais\n",
        "GRID_SIZE = 8\n",
        "LIVRE = 0\n",
        "MONTANHA = -1\n",
        "AREIA_MOVEDICA = -2\n",
        "INICIO = 1\n",
        "OBJETIVO = 2"
      ],
      "metadata": {
        "id": "qawV3U--TEtM"
      },
      "execution_count": 7,
      "outputs": []
    },
    {
      "cell_type": "code",
      "source": [
        "# Pontos especiais no Grid\n",
        "inicio = (0, 0)\n",
        "objetivo = (7, 7)\n",
        "montanhas = [(1, 1), (2, 2), (3, 3)]\n",
        "areias_movedicas = [(4, 4), (5, 5), (6, 6)]"
      ],
      "metadata": {
        "id": "OtpSjX0FTDh5"
      },
      "execution_count": 8,
      "outputs": []
    },
    {
      "cell_type": "code",
      "source": [
        "# Ações possíveis\n",
        "acoes = {'CIMA': (-1, 0), 'BAIXO': (1, 0), 'ESQUERDA': (0, -1), 'DIREITA': (0, 1)}"
      ],
      "metadata": {
        "id": "bj1gMrZgTBVK"
      },
      "execution_count": 9,
      "outputs": []
    },
    {
      "cell_type": "code",
      "source": [
        "# Cria um grid 8x8 e posiciona os elementos especiais\n",
        "def criar_grid():\n",
        "    grid = np.zeros((GRID_SIZE, GRID_SIZE), dtype=int)\n",
        "    grid[inicio] = INICIO\n",
        "    grid[objetivo] = OBJETIVO\n",
        "    for montanha in montanhas:\n",
        "        grid[montanha] = MONTANHA\n",
        "    for areia_movedica in areias_movedicas:\n",
        "        grid[areia_movedica] = AREIA_MOVEDICA\n",
        "    return grid"
      ],
      "metadata": {
        "id": "2dz2kATkS7_y"
      },
      "execution_count": 10,
      "outputs": []
    },
    {
      "cell_type": "code",
      "source": [
        "# Exibe o grid no console\n",
        "def visualizar_grid(grid):\n",
        "    print(\"Grid World:\")\n",
        "    print(grid)\n",
        "    plt.imshow(grid, cmap='viridis', interpolation='nearest')\n",
        "    plt.colorbar(ticks=[LIVRE, MONTANHA, AREIA_MOVEDICA, INICIO, OBJETIVO],\n",
        "                 label='Tipos de Células')\n",
        "    plt.title(\"Grid World\")\n",
        "    plt.show()"
      ],
      "metadata": {
        "id": "f0LoAAs5S6oO"
      },
      "execution_count": 11,
      "outputs": []
    },
    {
      "cell_type": "code",
      "source": [
        "# Determina as ações possíveis de uma dada posição no grid\n",
        "def acoes_possiveis(posicao, grid):\n",
        "    possiveis_acoes = []\n",
        "    for acao, (dx, dy) in acoes.items():\n",
        "        nova_posicao = (posicao[0] + dx, posicao[1] + dy)\n",
        "        if 0 <= nova_posicao[0] < GRID_SIZE and 0 <= nova_posicao[1] < GRID_SIZE and grid[nova_posicao] != MONTANHA:\n",
        "            possiveis_acoes.append(acao)\n",
        "    return possiveis_acoes"
      ],
      "metadata": {
        "id": "bAsTDza6S48u"
      },
      "execution_count": 12,
      "outputs": []
    },
    {
      "cell_type": "code",
      "source": [
        "# Calcula a recompensa de se mover para uma determinada posição no grid\n",
        "def recompensa(posicao, grid):\n",
        "    if grid[posicao] == AREIA_MOVEDICA:\n",
        "        return -1000  # Penalidade severa para areia movediça\n",
        "    elif grid[posicao] == OBJETIVO:\n",
        "        return 1000   # Grande recompensa para alcançar o objetivo\n",
        "    else:\n",
        "        return -1     # Pequena penalidade para cada passo"
      ],
      "metadata": {
        "id": "pvefFKjXS3oH"
      },
      "execution_count": 13,
      "outputs": []
    },
    {
      "cell_type": "code",
      "source": [
        "# Implementa a lógica do agente usando programação dinâmica\n",
        "def logica_agente(grid, inicio, objetivo):\n",
        "    valores = np.full(grid.shape, -np.inf)  # Inicializa a matriz de valores\n",
        "    valores[objetivo] = recompensa(objetivo, grid)\n",
        "\n",
        "    # Atualiza os valores com base nas recompensas esperadas\n",
        "    for _ in range(GRID_SIZE**2):\n",
        "        for x in range(GRID_SIZE):\n",
        "            for y in range(GRID_SIZE):\n",
        "                posicao = (x, y)\n",
        "                if grid[posicao] in [LIVRE, INICIO, OBJETIVO]:\n",
        "                    max_valor = -np.inf\n",
        "                    for acao in acoes_possiveis(posicao, grid):\n",
        "                        dx, dy = acoes[acao]\n",
        "                        nova_posicao = (x + dx, y + dy)\n",
        "                        valor = recompensa(nova_posicao, grid) + valores[nova_posicao]\n",
        "                        if valor > max_valor:\n",
        "                            max_valor = valor\n",
        "                    valores[posicao] = max_valor\n",
        "\n",
        "    # Encontra o caminho usando os valores calculados\n",
        "    caminho = []\n",
        "    posicao_atual = inicio\n",
        "    while posicao_atual != objetivo:\n",
        "        caminho.append(posicao_atual)\n",
        "        max_valor = -np.inf\n",
        "        melhor_acao = None\n",
        "        for acao in acoes_possiveis(posicao_atual, grid):\n",
        "            dx, dy = acoes[acao]\n",
        "            nova_posicao = (posicao_atual[0] + dx, posicao_atual[1] + dy)\n",
        "            if valores[nova_posicao] > max_valor:\n",
        "                max_valor = valores[nova_posicao]\n",
        "                melhor_acao = nova_posicao\n",
        "        posicao_atual = melhor_acao\n",
        "\n",
        "    caminho.append(objetivo)  # Adiciona o objetivo ao caminho\n",
        "    return caminho"
      ],
      "metadata": {
        "id": "9S4r13weS1_S"
      },
      "execution_count": 14,
      "outputs": []
    },
    {
      "cell_type": "code",
      "source": [
        "# Executando código\n",
        "grid = criar_grid()\n",
        "visualizar_grid(grid)"
      ],
      "metadata": {
        "colab": {
          "base_uri": "https://localhost:8080/",
          "height": 608
        },
        "id": "1f6sC_0jTNIn",
        "outputId": "51b062d5-d120-4e9b-9fda-804658919f3b"
      },
      "execution_count": 16,
      "outputs": [
        {
          "output_type": "stream",
          "name": "stdout",
          "text": [
            "Grid World:\n",
            "[[ 1  0  0  0  0  0  0  0]\n",
            " [ 0 -1  0  0  0  0  0  0]\n",
            " [ 0  0 -1  0  0  0  0  0]\n",
            " [ 0  0  0 -1  0  0  0  0]\n",
            " [ 0  0  0  0 -2  0  0  0]\n",
            " [ 0  0  0  0  0 -2  0  0]\n",
            " [ 0  0  0  0  0  0 -2  0]\n",
            " [ 0  0  0  0  0  0  0  2]]\n"
          ]
        },
        {
          "output_type": "display_data",
          "data": {
            "text/plain": [
              "<Figure size 640x480 with 2 Axes>"
            ],
            "image/png": "[encoded data removed]"
          },
          "metadata": {}
        }
      ]
    },
    {
      "cell_type": "code",
      "source": [
        "# Testando o código\n",
        "caminho = logica_agente(grid, inicio, objetivo)\n",
        "print(\"Caminho encontrado:\", caminho)"
      ],
      "metadata": {
        "colab": {
          "base_uri": "https://localhost:8080/"
        },
        "id": "naRpVlaFSkHv",
        "outputId": "6e175da1-6958-42f4-f6da-7ef649c8c1af"
      },
      "execution_count": 17,
      "outputs": [
        {
          "output_type": "stream",
          "name": "stdout",
          "text": [
            "Caminho encontrado: [(0, 0), (1, 0), (2, 0), (3, 0), (4, 0), (5, 0), (6, 0), (7, 0), (7, 1), (7, 2), (7, 3), (7, 4), (7, 5), (7, 6), (7, 7)]\n"
          ]
        }
      ]
    }
  ]
}